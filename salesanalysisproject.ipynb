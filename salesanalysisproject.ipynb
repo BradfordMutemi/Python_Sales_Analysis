{
 "cells": [
  {
   "cell_type": "markdown",
   "id": "2773d732",
   "metadata": {
    "_cell_guid": "b1076dfc-b9ad-4769-8c92-a6c4dae69d19",
    "_uuid": "8f2839f25d086af736a60e9eeb907d3b93b6e0e5",
    "execution": {
     "iopub.execute_input": "2023-05-24T08:29:11.382347Z",
     "iopub.status.busy": "2023-05-24T08:29:11.381674Z",
     "iopub.status.idle": "2023-05-24T08:29:11.420165Z",
     "shell.execute_reply": "2023-05-24T08:29:11.419079Z",
     "shell.execute_reply.started": "2023-05-24T08:29:11.382312Z"
    },
    "papermill": {
     "duration": 0.013228,
     "end_time": "2023-06-02T07:12:57.066580",
     "exception": false,
     "start_time": "2023-06-02T07:12:57.053352",
     "status": "completed"
    },
    "tags": []
   },
   "source": [
    "# Sales Analysis"
   ]
  },
  {
   "cell_type": "markdown",
   "id": "ea6b6cf9",
   "metadata": {
    "papermill": {
     "duration": 0.012474,
     "end_time": "2023-06-02T07:12:57.091504",
     "exception": false,
     "start_time": "2023-06-02T07:12:57.079030",
     "status": "completed"
    },
    "tags": []
   },
   "source": [
    "#### This project involves:-  \n",
    "  Task 1:  \n",
    "  Merging of the 12-months sales reports  \n",
    "  \n",
    "  Task 2:\n",
    "  Data Cleaning  \n",
    "  \n",
    "  Task 3:\n",
    "  Data Exploration.  \n",
    "  Here, we will answer 5 questions:-  \n",
    "    1.  Which was the best month in sales and by how much.  \n",
    "    2.  City with most sales.  \n",
    "    3.  The best time to maximize on advertisements.  \n",
    "    4.  Products sold together.  \n",
    "    5.  Products with most sales."
   ]
  },
  {
   "cell_type": "markdown",
   "id": "d840d2ef",
   "metadata": {
    "papermill": {
     "duration": 0.012114,
     "end_time": "2023-06-02T07:12:57.116225",
     "exception": false,
     "start_time": "2023-06-02T07:12:57.104111",
     "status": "completed"
    },
    "tags": []
   },
   "source": [
    "### Import Necessary Libraries"
   ]
  },
  {
   "cell_type": "code",
   "execution_count": 1,
   "id": "4ae77c45",
   "metadata": {
    "execution": {
     "iopub.execute_input": "2023-06-02T07:12:57.143530Z",
     "iopub.status.busy": "2023-06-02T07:12:57.142738Z",
     "iopub.status.idle": "2023-06-02T07:12:58.693303Z",
     "shell.execute_reply": "2023-06-02T07:12:58.691611Z"
    },
    "papermill": {
     "duration": 1.567788,
     "end_time": "2023-06-02T07:12:58.696388",
     "exception": false,
     "start_time": "2023-06-02T07:12:57.128600",
     "status": "completed"
    },
    "tags": []
   },
   "outputs": [
    {
     "name": "stderr",
     "output_type": "stream",
     "text": [
      "/opt/conda/lib/python3.10/site-packages/scipy/__init__.py:146: UserWarning: A NumPy version >=1.16.5 and <1.23.0 is required for this version of SciPy (detected version 1.23.5\n",
      "  warnings.warn(f\"A NumPy version >={np_minversion} and <{np_maxversion}\"\n"
     ]
    },
    {
     "name": "stdout",
     "output_type": "stream",
     "text": [
      "/kaggle/input/salesdata/Sales_Data/Sales_August_2019.csv\n",
      "/kaggle/input/salesdata/Sales_Data/Sales_May_2019.csv\n",
      "/kaggle/input/salesdata/Sales_Data/Sales_February_2019.csv\n",
      "/kaggle/input/salesdata/Sales_Data/Sales_November_2019.csv\n",
      "/kaggle/input/salesdata/Sales_Data/Sales_January_2019.csv\n",
      "/kaggle/input/salesdata/Sales_Data/Sales_March_2019.csv\n",
      "/kaggle/input/salesdata/Sales_Data/Sales_September_2019.csv\n",
      "/kaggle/input/salesdata/Sales_Data/Sales_April_2019.csv\n",
      "/kaggle/input/salesdata/Sales_Data/Sales_July_2019.csv\n",
      "/kaggle/input/salesdata/Sales_Data/Sales_October_2019.csv\n",
      "/kaggle/input/salesdata/Sales_Data/Sales_June_2019.csv\n",
      "/kaggle/input/salesdata/Sales_Data/Sales_December_2019.csv\n"
     ]
    }
   ],
   "source": [
    "import numpy as np \n",
    "import pandas as pd\n",
    "import matplotlib.pyplot as plt\n",
    "import seaborn as sns\n",
    "import datetime\n",
    "\n",
    "import warnings\n",
    "warnings.filterwarnings('ignore')\n",
    "import os\n",
    "for dirname, _, filenames in os.walk('/kaggle/input'):\n",
    "    for filename in filenames:\n",
    "        print(os.path.join(dirname, filename))"
   ]
  },
  {
   "cell_type": "markdown",
   "id": "7da02c7e",
   "metadata": {
    "papermill": {
     "duration": 0.012858,
     "end_time": "2023-06-02T07:12:58.722582",
     "exception": false,
     "start_time": "2023-06-02T07:12:58.709724",
     "status": "completed"
    },
    "tags": []
   },
   "source": [
    "### Task #1: Merging 12 months of sales data into a single file"
   ]
  },
  {
   "cell_type": "code",
   "execution_count": 2,
   "id": "5c800375",
   "metadata": {
    "execution": {
     "iopub.execute_input": "2023-06-02T07:12:58.751570Z",
     "iopub.status.busy": "2023-06-02T07:12:58.750750Z",
     "iopub.status.idle": "2023-06-02T07:12:59.650050Z",
     "shell.execute_reply": "2023-06-02T07:12:59.648611Z"
    },
    "papermill": {
     "duration": 0.917162,
     "end_time": "2023-06-02T07:12:59.652829",
     "exception": false,
     "start_time": "2023-06-02T07:12:58.735667",
     "status": "completed"
    },
    "tags": []
   },
   "outputs": [
    {
     "data": {
      "text/html": [
       "<div>\n",
       "<style scoped>\n",
       "    .dataframe tbody tr th:only-of-type {\n",
       "        vertical-align: middle;\n",
       "    }\n",
       "\n",
       "    .dataframe tbody tr th {\n",
       "        vertical-align: top;\n",
       "    }\n",
       "\n",
       "    .dataframe thead th {\n",
       "        text-align: right;\n",
       "    }\n",
       "</style>\n",
       "<table border=\"1\" class=\"dataframe\">\n",
       "  <thead>\n",
       "    <tr style=\"text-align: right;\">\n",
       "      <th></th>\n",
       "      <th>Order ID</th>\n",
       "      <th>Product</th>\n",
       "      <th>Quantity Ordered</th>\n",
       "      <th>Price Each</th>\n",
       "      <th>Order Date</th>\n",
       "      <th>Purchase Address</th>\n",
       "    </tr>\n",
       "  </thead>\n",
       "  <tbody>\n",
       "    <tr>\n",
       "      <th>0</th>\n",
       "      <td>236670</td>\n",
       "      <td>Wired Headphones</td>\n",
       "      <td>2</td>\n",
       "      <td>11.99</td>\n",
       "      <td>08/31/19 22:21</td>\n",
       "      <td>359 Spruce St, Seattle, WA 98101</td>\n",
       "    </tr>\n",
       "    <tr>\n",
       "      <th>1</th>\n",
       "      <td>236671</td>\n",
       "      <td>Bose SoundSport Headphones</td>\n",
       "      <td>1</td>\n",
       "      <td>99.99</td>\n",
       "      <td>08/15/19 15:11</td>\n",
       "      <td>492 Ridge St, Dallas, TX 75001</td>\n",
       "    </tr>\n",
       "    <tr>\n",
       "      <th>2</th>\n",
       "      <td>236672</td>\n",
       "      <td>iPhone</td>\n",
       "      <td>1</td>\n",
       "      <td>700.0</td>\n",
       "      <td>08/06/19 14:40</td>\n",
       "      <td>149 7th St, Portland, OR 97035</td>\n",
       "    </tr>\n",
       "    <tr>\n",
       "      <th>3</th>\n",
       "      <td>236673</td>\n",
       "      <td>AA Batteries (4-pack)</td>\n",
       "      <td>2</td>\n",
       "      <td>3.84</td>\n",
       "      <td>08/29/19 20:59</td>\n",
       "      <td>631 2nd St, Los Angeles, CA 90001</td>\n",
       "    </tr>\n",
       "    <tr>\n",
       "      <th>4</th>\n",
       "      <td>236674</td>\n",
       "      <td>AA Batteries (4-pack)</td>\n",
       "      <td>2</td>\n",
       "      <td>3.84</td>\n",
       "      <td>08/15/19 19:53</td>\n",
       "      <td>736 14th St, New York City, NY 10001</td>\n",
       "    </tr>\n",
       "  </tbody>\n",
       "</table>\n",
       "</div>"
      ],
      "text/plain": [
       "  Order ID                     Product Quantity Ordered Price Each  \\\n",
       "0   236670            Wired Headphones                2      11.99   \n",
       "1   236671  Bose SoundSport Headphones                1      99.99   \n",
       "2   236672                      iPhone                1      700.0   \n",
       "3   236673       AA Batteries (4-pack)                2       3.84   \n",
       "4   236674       AA Batteries (4-pack)                2       3.84   \n",
       "\n",
       "       Order Date                      Purchase Address  \n",
       "0  08/31/19 22:21      359 Spruce St, Seattle, WA 98101  \n",
       "1  08/15/19 15:11        492 Ridge St, Dallas, TX 75001  \n",
       "2  08/06/19 14:40        149 7th St, Portland, OR 97035  \n",
       "3  08/29/19 20:59     631 2nd St, Los Angeles, CA 90001  \n",
       "4  08/15/19 19:53  736 14th St, New York City, NY 10001  "
      ]
     },
     "execution_count": 2,
     "metadata": {},
     "output_type": "execute_result"
    }
   ],
   "source": [
    "files = [file for file in os.listdir(\"/kaggle/input/salesdata/Sales_Data\")]\n",
    "all_data = pd.DataFrame()\n",
    "\n",
    "for file in files:\n",
    "    df =  pd.read_csv(\"/kaggle/input/salesdata/Sales_Data/\" + file)\n",
    "    all_data = pd.concat([all_data, df])\n",
    "all_data.head()"
   ]
  },
  {
   "cell_type": "markdown",
   "id": "4c9c0d5c",
   "metadata": {
    "papermill": {
     "duration": 0.012544,
     "end_time": "2023-06-02T07:12:59.678378",
     "exception": false,
     "start_time": "2023-06-02T07:12:59.665834",
     "status": "completed"
    },
    "tags": []
   },
   "source": [
    "### Task #2: Data Cleaning"
   ]
  },
  {
   "cell_type": "code",
   "execution_count": 3,
   "id": "ac53c0af",
   "metadata": {
    "execution": {
     "iopub.execute_input": "2023-06-02T07:12:59.706454Z",
     "iopub.status.busy": "2023-06-02T07:12:59.705919Z",
     "iopub.status.idle": "2023-06-02T07:13:00.102120Z",
     "shell.execute_reply": "2023-06-02T07:13:00.100566Z"
    },
    "papermill": {
     "duration": 0.413887,
     "end_time": "2023-06-02T07:13:00.104850",
     "exception": false,
     "start_time": "2023-06-02T07:12:59.690963",
     "status": "completed"
    },
    "tags": []
   },
   "outputs": [
    {
     "name": "stdout",
     "output_type": "stream",
     "text": [
      "<class 'pandas.core.frame.DataFrame'>\n",
      "Int64Index: 186850 entries, 0 to 25116\n",
      "Data columns (total 6 columns):\n",
      " #   Column            Non-Null Count   Dtype \n",
      "---  ------            --------------   ----- \n",
      " 0   Order ID          186305 non-null  object\n",
      " 1   Product           186305 non-null  object\n",
      " 2   Quantity Ordered  186305 non-null  object\n",
      " 3   Price Each        186305 non-null  object\n",
      " 4   Order Date        186305 non-null  object\n",
      " 5   Purchase Address  186305 non-null  object\n",
      "dtypes: object(6)\n",
      "memory usage: 10.0+ MB\n"
     ]
    }
   ],
   "source": [
    "# Check some characteristics of the data.\n",
    "all_data.info()"
   ]
  },
  {
   "cell_type": "markdown",
   "id": "42a807b7",
   "metadata": {
    "papermill": {
     "duration": 0.014573,
     "end_time": "2023-06-02T07:13:00.132366",
     "exception": false,
     "start_time": "2023-06-02T07:13:00.117793",
     "status": "completed"
    },
    "tags": []
   },
   "source": [
    "We can see that all columns are in string data type. We need to change 'Quantity Ordered', \n",
    "'Price Each', and 'Order Date' to correct datatypes. "
   ]
  },
  {
   "cell_type": "code",
   "execution_count": 4,
   "id": "553861af",
   "metadata": {
    "execution": {
     "iopub.execute_input": "2023-06-02T07:13:00.160774Z",
     "iopub.status.busy": "2023-06-02T07:13:00.160293Z",
     "iopub.status.idle": "2023-06-02T07:13:20.673360Z",
     "shell.execute_reply": "2023-06-02T07:13:20.671778Z"
    },
    "papermill": {
     "duration": 20.530768,
     "end_time": "2023-06-02T07:13:20.676335",
     "exception": false,
     "start_time": "2023-06-02T07:13:00.145567",
     "status": "completed"
    },
    "tags": []
   },
   "outputs": [],
   "source": [
    "# Convert the 'Order Date' column to datetime type\n",
    "# If you run the commented code below, there is error in row 211. This has resulted due to combining \n",
    "# the files with headers. \n",
    "#all_data['Order Date'] = pd.to_datetime(all_data['Order Date'])\n",
    "#We need to drop the rows.\n",
    "all_data.drop(all_data.loc[all_data['Order Date'] == 'Order Date'].index, inplace=True)\n",
    "\n",
    "#Convert to Datetime\n",
    "all_data['Order Date'] = pd.to_datetime(all_data['Order Date'])"
   ]
  },
  {
   "cell_type": "code",
   "execution_count": 5,
   "id": "3d007581",
   "metadata": {
    "execution": {
     "iopub.execute_input": "2023-06-02T07:13:20.705024Z",
     "iopub.status.busy": "2023-06-02T07:13:20.704585Z",
     "iopub.status.idle": "2023-06-02T07:13:20.798161Z",
     "shell.execute_reply": "2023-06-02T07:13:20.796823Z"
    },
    "papermill": {
     "duration": 0.111388,
     "end_time": "2023-06-02T07:13:20.801046",
     "exception": false,
     "start_time": "2023-06-02T07:13:20.689658",
     "status": "completed"
    },
    "tags": []
   },
   "outputs": [
    {
     "data": {
      "text/html": [
       "<div>\n",
       "<style scoped>\n",
       "    .dataframe tbody tr th:only-of-type {\n",
       "        vertical-align: middle;\n",
       "    }\n",
       "\n",
       "    .dataframe tbody tr th {\n",
       "        vertical-align: top;\n",
       "    }\n",
       "\n",
       "    .dataframe thead th {\n",
       "        text-align: right;\n",
       "    }\n",
       "</style>\n",
       "<table border=\"1\" class=\"dataframe\">\n",
       "  <thead>\n",
       "    <tr style=\"text-align: right;\">\n",
       "      <th></th>\n",
       "      <th>Order ID</th>\n",
       "      <th>Product</th>\n",
       "      <th>Quantity Ordered</th>\n",
       "      <th>Price Each</th>\n",
       "      <th>Order Date</th>\n",
       "      <th>Purchase Address</th>\n",
       "    </tr>\n",
       "  </thead>\n",
       "  <tbody>\n",
       "    <tr>\n",
       "      <th>6344</th>\n",
       "      <td>147268</td>\n",
       "      <td>Wired Headphones</td>\n",
       "      <td>1</td>\n",
       "      <td>11.99</td>\n",
       "      <td>2019-01-01 03:07:00</td>\n",
       "      <td>9 Lake St, New York City, NY 10001</td>\n",
       "    </tr>\n",
       "    <tr>\n",
       "      <th>7154</th>\n",
       "      <td>148041</td>\n",
       "      <td>USB-C Charging Cable</td>\n",
       "      <td>1</td>\n",
       "      <td>11.95</td>\n",
       "      <td>2019-01-01 03:40:00</td>\n",
       "      <td>760 Church St, San Francisco, CA 94016</td>\n",
       "    </tr>\n",
       "    <tr>\n",
       "      <th>8507</th>\n",
       "      <td>149343</td>\n",
       "      <td>Apple Airpods Headphones</td>\n",
       "      <td>1</td>\n",
       "      <td>150</td>\n",
       "      <td>2019-01-01 04:56:00</td>\n",
       "      <td>735 5th St, New York City, NY 10001</td>\n",
       "    </tr>\n",
       "    <tr>\n",
       "      <th>9161</th>\n",
       "      <td>149964</td>\n",
       "      <td>AAA Batteries (4-pack)</td>\n",
       "      <td>1</td>\n",
       "      <td>2.99</td>\n",
       "      <td>2019-01-01 05:53:00</td>\n",
       "      <td>75 Jackson St, Dallas, TX 75001</td>\n",
       "    </tr>\n",
       "    <tr>\n",
       "      <th>8514</th>\n",
       "      <td>149350</td>\n",
       "      <td>USB-C Charging Cable</td>\n",
       "      <td>2</td>\n",
       "      <td>11.95</td>\n",
       "      <td>2019-01-01 06:03:00</td>\n",
       "      <td>943 2nd St, Atlanta, GA 30301</td>\n",
       "    </tr>\n",
       "  </tbody>\n",
       "</table>\n",
       "</div>"
      ],
      "text/plain": [
       "     Order ID                   Product Quantity Ordered Price Each  \\\n",
       "6344   147268          Wired Headphones                1      11.99   \n",
       "7154   148041      USB-C Charging Cable                1      11.95   \n",
       "8507   149343  Apple Airpods Headphones                1        150   \n",
       "9161   149964    AAA Batteries (4-pack)                1       2.99   \n",
       "8514   149350      USB-C Charging Cable                2      11.95   \n",
       "\n",
       "              Order Date                        Purchase Address  \n",
       "6344 2019-01-01 03:07:00      9 Lake St, New York City, NY 10001  \n",
       "7154 2019-01-01 03:40:00  760 Church St, San Francisco, CA 94016  \n",
       "8507 2019-01-01 04:56:00     735 5th St, New York City, NY 10001  \n",
       "9161 2019-01-01 05:53:00         75 Jackson St, Dallas, TX 75001  \n",
       "8514 2019-01-01 06:03:00           943 2nd St, Atlanta, GA 30301  "
      ]
     },
     "execution_count": 5,
     "metadata": {},
     "output_type": "execute_result"
    }
   ],
   "source": [
    "# Sort according to date\n",
    "all_data = all_data.sort_values(by='Order Date', ascending=True)\n",
    "all_data.head()"
   ]
  },
  {
   "cell_type": "code",
   "execution_count": 6,
   "id": "81c5c0f8",
   "metadata": {
    "execution": {
     "iopub.execute_input": "2023-06-02T07:13:20.830037Z",
     "iopub.status.busy": "2023-06-02T07:13:20.829560Z",
     "iopub.status.idle": "2023-06-02T07:13:21.171746Z",
     "shell.execute_reply": "2023-06-02T07:13:21.170845Z"
    },
    "papermill": {
     "duration": 0.359597,
     "end_time": "2023-06-02T07:13:21.174318",
     "exception": false,
     "start_time": "2023-06-02T07:13:20.814721",
     "status": "completed"
    },
    "tags": []
   },
   "outputs": [
    {
     "name": "stdout",
     "output_type": "stream",
     "text": [
      "<class 'pandas.core.frame.DataFrame'>\n",
      "Int64Index: 183271 entries, 6344 to 24730\n",
      "Data columns (total 6 columns):\n",
      " #   Column            Non-Null Count   Dtype         \n",
      "---  ------            --------------   -----         \n",
      " 0   Order ID          182735 non-null  object        \n",
      " 1   Product           182735 non-null  object        \n",
      " 2   Quantity Ordered  182735 non-null  object        \n",
      " 3   Price Each        182735 non-null  object        \n",
      " 4   Order Date        182735 non-null  datetime64[ns]\n",
      " 5   Purchase Address  182735 non-null  object        \n",
      "dtypes: datetime64[ns](1), object(5)\n",
      "memory usage: 9.8+ MB\n"
     ]
    }
   ],
   "source": [
    "all_data.info()"
   ]
  },
  {
   "cell_type": "code",
   "execution_count": 7,
   "id": "1f4082ff",
   "metadata": {
    "execution": {
     "iopub.execute_input": "2023-06-02T07:13:21.204714Z",
     "iopub.status.busy": "2023-06-02T07:13:21.203258Z",
     "iopub.status.idle": "2023-06-02T07:13:21.533858Z",
     "shell.execute_reply": "2023-06-02T07:13:21.532594Z"
    },
    "papermill": {
     "duration": 0.348222,
     "end_time": "2023-06-02T07:13:21.536343",
     "exception": false,
     "start_time": "2023-06-02T07:13:21.188121",
     "status": "completed"
    },
    "tags": []
   },
   "outputs": [
    {
     "data": {
      "text/plain": [
       "Order ID            536\n",
       "Product             536\n",
       "Quantity Ordered    536\n",
       "Price Each          536\n",
       "Order Date          536\n",
       "Purchase Address    536\n",
       "dtype: int64"
      ]
     },
     "execution_count": 7,
     "metadata": {},
     "output_type": "execute_result"
    }
   ],
   "source": [
    "# Check how many null values in the data\n",
    "all_data.isnull().sum()"
   ]
  },
  {
   "cell_type": "code",
   "execution_count": 8,
   "id": "863e7d52",
   "metadata": {
    "execution": {
     "iopub.execute_input": "2023-06-02T07:13:21.565573Z",
     "iopub.status.busy": "2023-06-02T07:13:21.565075Z",
     "iopub.status.idle": "2023-06-02T07:13:21.919681Z",
     "shell.execute_reply": "2023-06-02T07:13:21.918528Z"
    },
    "papermill": {
     "duration": 0.372305,
     "end_time": "2023-06-02T07:13:21.922232",
     "exception": false,
     "start_time": "2023-06-02T07:13:21.549927",
     "status": "completed"
    },
    "tags": []
   },
   "outputs": [
    {
     "data": {
      "text/html": [
       "<div>\n",
       "<style scoped>\n",
       "    .dataframe tbody tr th:only-of-type {\n",
       "        vertical-align: middle;\n",
       "    }\n",
       "\n",
       "    .dataframe tbody tr th {\n",
       "        vertical-align: top;\n",
       "    }\n",
       "\n",
       "    .dataframe thead th {\n",
       "        text-align: right;\n",
       "    }\n",
       "</style>\n",
       "<table border=\"1\" class=\"dataframe\">\n",
       "  <thead>\n",
       "    <tr style=\"text-align: right;\">\n",
       "      <th></th>\n",
       "      <th>Order ID</th>\n",
       "      <th>Product</th>\n",
       "      <th>Quantity Ordered</th>\n",
       "      <th>Price Each</th>\n",
       "      <th>Order Date</th>\n",
       "      <th>Purchase Address</th>\n",
       "    </tr>\n",
       "  </thead>\n",
       "  <tbody>\n",
       "    <tr>\n",
       "      <th>6344</th>\n",
       "      <td>NaN</td>\n",
       "      <td>NaN</td>\n",
       "      <td>NaN</td>\n",
       "      <td>NaN</td>\n",
       "      <td>NaT</td>\n",
       "      <td>NaN</td>\n",
       "    </tr>\n",
       "    <tr>\n",
       "      <th>7154</th>\n",
       "      <td>NaN</td>\n",
       "      <td>NaN</td>\n",
       "      <td>NaN</td>\n",
       "      <td>NaN</td>\n",
       "      <td>NaT</td>\n",
       "      <td>NaN</td>\n",
       "    </tr>\n",
       "    <tr>\n",
       "      <th>8507</th>\n",
       "      <td>NaN</td>\n",
       "      <td>NaN</td>\n",
       "      <td>NaN</td>\n",
       "      <td>NaN</td>\n",
       "      <td>NaT</td>\n",
       "      <td>NaN</td>\n",
       "    </tr>\n",
       "    <tr>\n",
       "      <th>9161</th>\n",
       "      <td>NaN</td>\n",
       "      <td>NaN</td>\n",
       "      <td>NaN</td>\n",
       "      <td>NaN</td>\n",
       "      <td>NaT</td>\n",
       "      <td>NaN</td>\n",
       "    </tr>\n",
       "    <tr>\n",
       "      <th>8514</th>\n",
       "      <td>NaN</td>\n",
       "      <td>NaN</td>\n",
       "      <td>NaN</td>\n",
       "      <td>NaN</td>\n",
       "      <td>NaT</td>\n",
       "      <td>NaN</td>\n",
       "    </tr>\n",
       "    <tr>\n",
       "      <th>...</th>\n",
       "      <td>...</td>\n",
       "      <td>...</td>\n",
       "      <td>...</td>\n",
       "      <td>...</td>\n",
       "      <td>...</td>\n",
       "      <td>...</td>\n",
       "    </tr>\n",
       "    <tr>\n",
       "      <th>22945</th>\n",
       "      <td>NaN</td>\n",
       "      <td>NaN</td>\n",
       "      <td>NaN</td>\n",
       "      <td>NaN</td>\n",
       "      <td>NaT</td>\n",
       "      <td>NaN</td>\n",
       "    </tr>\n",
       "    <tr>\n",
       "      <th>22962</th>\n",
       "      <td>NaN</td>\n",
       "      <td>NaN</td>\n",
       "      <td>NaN</td>\n",
       "      <td>NaN</td>\n",
       "      <td>NaT</td>\n",
       "      <td>NaN</td>\n",
       "    </tr>\n",
       "    <tr>\n",
       "      <th>23309</th>\n",
       "      <td>NaN</td>\n",
       "      <td>NaN</td>\n",
       "      <td>NaN</td>\n",
       "      <td>NaN</td>\n",
       "      <td>NaT</td>\n",
       "      <td>NaN</td>\n",
       "    </tr>\n",
       "    <tr>\n",
       "      <th>23996</th>\n",
       "      <td>NaN</td>\n",
       "      <td>NaN</td>\n",
       "      <td>NaN</td>\n",
       "      <td>NaN</td>\n",
       "      <td>NaT</td>\n",
       "      <td>NaN</td>\n",
       "    </tr>\n",
       "    <tr>\n",
       "      <th>24730</th>\n",
       "      <td>NaN</td>\n",
       "      <td>NaN</td>\n",
       "      <td>NaN</td>\n",
       "      <td>NaN</td>\n",
       "      <td>NaT</td>\n",
       "      <td>NaN</td>\n",
       "    </tr>\n",
       "  </tbody>\n",
       "</table>\n",
       "<p>183271 rows × 6 columns</p>\n",
       "</div>"
      ],
      "text/plain": [
       "      Order ID Product Quantity Ordered Price Each Order Date Purchase Address\n",
       "6344       NaN     NaN              NaN        NaN        NaT              NaN\n",
       "7154       NaN     NaN              NaN        NaN        NaT              NaN\n",
       "8507       NaN     NaN              NaN        NaN        NaT              NaN\n",
       "9161       NaN     NaN              NaN        NaN        NaT              NaN\n",
       "8514       NaN     NaN              NaN        NaN        NaT              NaN\n",
       "...        ...     ...              ...        ...        ...              ...\n",
       "22945      NaN     NaN              NaN        NaN        NaT              NaN\n",
       "22962      NaN     NaN              NaN        NaN        NaT              NaN\n",
       "23309      NaN     NaN              NaN        NaN        NaT              NaN\n",
       "23996      NaN     NaN              NaN        NaN        NaT              NaN\n",
       "24730      NaN     NaN              NaN        NaN        NaT              NaN\n",
       "\n",
       "[183271 rows x 6 columns]"
      ]
     },
     "execution_count": 8,
     "metadata": {},
     "output_type": "execute_result"
    }
   ],
   "source": [
    "# Check which rows are null\n",
    "all_data[all_data.isnull()]"
   ]
  },
  {
   "cell_type": "code",
   "execution_count": 9,
   "id": "b1324af3",
   "metadata": {
    "execution": {
     "iopub.execute_input": "2023-06-02T07:13:21.952826Z",
     "iopub.status.busy": "2023-06-02T07:13:21.952329Z",
     "iopub.status.idle": "2023-06-02T07:13:22.314484Z",
     "shell.execute_reply": "2023-06-02T07:13:22.313233Z"
    },
    "papermill": {
     "duration": 0.381211,
     "end_time": "2023-06-02T07:13:22.317507",
     "exception": false,
     "start_time": "2023-06-02T07:13:21.936296",
     "status": "completed"
    },
    "tags": []
   },
   "outputs": [],
   "source": [
    "# Drop null values and effect it on the dataset\n",
    "all_data.dropna(inplace=True)"
   ]
  },
  {
   "cell_type": "code",
   "execution_count": 10,
   "id": "87099c7a",
   "metadata": {
    "execution": {
     "iopub.execute_input": "2023-06-02T07:13:22.348570Z",
     "iopub.status.busy": "2023-06-02T07:13:22.348100Z",
     "iopub.status.idle": "2023-06-02T07:13:22.458490Z",
     "shell.execute_reply": "2023-06-02T07:13:22.457117Z"
    },
    "papermill": {
     "duration": 0.129384,
     "end_time": "2023-06-02T07:13:22.461474",
     "exception": false,
     "start_time": "2023-06-02T07:13:22.332090",
     "status": "completed"
    },
    "tags": []
   },
   "outputs": [],
   "source": [
    "# Convert 'Quantity Ordered' column to integer and 'Price Each' column to float\n",
    "all_data['Quantity Ordered'] = all_data['Quantity Ordered'].astype('int')\n",
    "all_data['Price Each'] = all_data['Price Each'].astype('float')"
   ]
  },
  {
   "cell_type": "code",
   "execution_count": 11,
   "id": "b9b1ac79",
   "metadata": {
    "execution": {
     "iopub.execute_input": "2023-06-02T07:13:22.491731Z",
     "iopub.status.busy": "2023-06-02T07:13:22.491272Z",
     "iopub.status.idle": "2023-06-02T07:13:22.713533Z",
     "shell.execute_reply": "2023-06-02T07:13:22.711934Z"
    },
    "papermill": {
     "duration": 0.240682,
     "end_time": "2023-06-02T07:13:22.716174",
     "exception": false,
     "start_time": "2023-06-02T07:13:22.475492",
     "status": "completed"
    },
    "tags": []
   },
   "outputs": [
    {
     "name": "stdout",
     "output_type": "stream",
     "text": [
      "<class 'pandas.core.frame.DataFrame'>\n",
      "Int64Index: 182735 entries, 6344 to 5103\n",
      "Data columns (total 6 columns):\n",
      " #   Column            Non-Null Count   Dtype         \n",
      "---  ------            --------------   -----         \n",
      " 0   Order ID          182735 non-null  object        \n",
      " 1   Product           182735 non-null  object        \n",
      " 2   Quantity Ordered  182735 non-null  int64         \n",
      " 3   Price Each        182735 non-null  float64       \n",
      " 4   Order Date        182735 non-null  datetime64[ns]\n",
      " 5   Purchase Address  182735 non-null  object        \n",
      "dtypes: datetime64[ns](1), float64(1), int64(1), object(3)\n",
      "memory usage: 9.8+ MB\n"
     ]
    }
   ],
   "source": [
    "# Check resultant dataset\n",
    "all_data.info()"
   ]
  },
  {
   "cell_type": "markdown",
   "id": "a9eb452a",
   "metadata": {
    "papermill": {
     "duration": 0.013814,
     "end_time": "2023-06-02T07:13:22.744184",
     "exception": false,
     "start_time": "2023-06-02T07:13:22.730370",
     "status": "completed"
    },
    "tags": []
   },
   "source": [
    "Now the dataset features/columns are in the right data type."
   ]
  },
  {
   "cell_type": "markdown",
   "id": "aa31750e",
   "metadata": {
    "papermill": {
     "duration": 0.013862,
     "end_time": "2023-06-02T07:13:22.772393",
     "exception": false,
     "start_time": "2023-06-02T07:13:22.758531",
     "status": "completed"
    },
    "tags": []
   },
   "source": [
    "#### Add more columns"
   ]
  },
  {
   "cell_type": "code",
   "execution_count": 12,
   "id": "78bec436",
   "metadata": {
    "execution": {
     "iopub.execute_input": "2023-06-02T07:13:22.802565Z",
     "iopub.status.busy": "2023-06-02T07:13:22.802067Z",
     "iopub.status.idle": "2023-06-02T07:13:22.827632Z",
     "shell.execute_reply": "2023-06-02T07:13:22.826424Z"
    },
    "papermill": {
     "duration": 0.044024,
     "end_time": "2023-06-02T07:13:22.830528",
     "exception": false,
     "start_time": "2023-06-02T07:13:22.786504",
     "status": "completed"
    },
    "tags": []
   },
   "outputs": [],
   "source": [
    "# Extract month\n",
    "all_data['Month'] = all_data['Order Date'].dt.month"
   ]
  },
  {
   "cell_type": "code",
   "execution_count": 13,
   "id": "40e9fec3",
   "metadata": {
    "execution": {
     "iopub.execute_input": "2023-06-02T07:13:22.861495Z",
     "iopub.status.busy": "2023-06-02T07:13:22.860419Z",
     "iopub.status.idle": "2023-06-02T07:13:23.026873Z",
     "shell.execute_reply": "2023-06-02T07:13:23.025428Z"
    },
    "papermill": {
     "duration": 0.185141,
     "end_time": "2023-06-02T07:13:23.029813",
     "exception": false,
     "start_time": "2023-06-02T07:13:22.844672",
     "status": "completed"
    },
    "tags": []
   },
   "outputs": [],
   "source": [
    "# City column\n",
    "all_data['City'] = all_data['Purchase Address'].apply(lambda x: x.split(\",\")[1])"
   ]
  },
  {
   "cell_type": "code",
   "execution_count": 14,
   "id": "5248e114",
   "metadata": {
    "execution": {
     "iopub.execute_input": "2023-06-02T07:13:23.062959Z",
     "iopub.status.busy": "2023-06-02T07:13:23.062582Z",
     "iopub.status.idle": "2023-06-02T07:13:23.259309Z",
     "shell.execute_reply": "2023-06-02T07:13:23.258167Z"
    },
    "papermill": {
     "duration": 0.217808,
     "end_time": "2023-06-02T07:13:23.262290",
     "exception": false,
     "start_time": "2023-06-02T07:13:23.044482",
     "status": "completed"
    },
    "tags": []
   },
   "outputs": [],
   "source": [
    "# State column\n",
    "all_data['State'] = all_data['Purchase Address'].apply(lambda x: x.split(\",\")[2][0:3])"
   ]
  },
  {
   "cell_type": "code",
   "execution_count": 15,
   "id": "da22e8f6",
   "metadata": {
    "execution": {
     "iopub.execute_input": "2023-06-02T07:13:23.292960Z",
     "iopub.status.busy": "2023-06-02T07:13:23.292472Z",
     "iopub.status.idle": "2023-06-02T07:13:23.300613Z",
     "shell.execute_reply": "2023-06-02T07:13:23.299226Z"
    },
    "papermill": {
     "duration": 0.026665,
     "end_time": "2023-06-02T07:13:23.303367",
     "exception": false,
     "start_time": "2023-06-02T07:13:23.276702",
     "status": "completed"
    },
    "tags": []
   },
   "outputs": [],
   "source": [
    "# Sales Value\n",
    "all_data['Sales Value'] = all_data['Quantity Ordered']*all_data['Price Each']"
   ]
  },
  {
   "cell_type": "code",
   "execution_count": 16,
   "id": "5282a506",
   "metadata": {
    "execution": {
     "iopub.execute_input": "2023-06-02T07:13:23.335166Z",
     "iopub.status.busy": "2023-06-02T07:13:23.334721Z",
     "iopub.status.idle": "2023-06-02T07:13:23.353426Z",
     "shell.execute_reply": "2023-06-02T07:13:23.352380Z"
    },
    "papermill": {
     "duration": 0.037959,
     "end_time": "2023-06-02T07:13:23.355830",
     "exception": false,
     "start_time": "2023-06-02T07:13:23.317871",
     "status": "completed"
    },
    "tags": []
   },
   "outputs": [
    {
     "data": {
      "text/html": [
       "<div>\n",
       "<style scoped>\n",
       "    .dataframe tbody tr th:only-of-type {\n",
       "        vertical-align: middle;\n",
       "    }\n",
       "\n",
       "    .dataframe tbody tr th {\n",
       "        vertical-align: top;\n",
       "    }\n",
       "\n",
       "    .dataframe thead th {\n",
       "        text-align: right;\n",
       "    }\n",
       "</style>\n",
       "<table border=\"1\" class=\"dataframe\">\n",
       "  <thead>\n",
       "    <tr style=\"text-align: right;\">\n",
       "      <th></th>\n",
       "      <th>Order ID</th>\n",
       "      <th>Product</th>\n",
       "      <th>Quantity Ordered</th>\n",
       "      <th>Price Each</th>\n",
       "      <th>Order Date</th>\n",
       "      <th>Purchase Address</th>\n",
       "      <th>Month</th>\n",
       "      <th>City</th>\n",
       "      <th>State</th>\n",
       "      <th>Sales Value</th>\n",
       "    </tr>\n",
       "  </thead>\n",
       "  <tbody>\n",
       "    <tr>\n",
       "      <th>6344</th>\n",
       "      <td>147268</td>\n",
       "      <td>Wired Headphones</td>\n",
       "      <td>1</td>\n",
       "      <td>11.99</td>\n",
       "      <td>2019-01-01 03:07:00</td>\n",
       "      <td>9 Lake St, New York City, NY 10001</td>\n",
       "      <td>1</td>\n",
       "      <td>New York City</td>\n",
       "      <td>NY</td>\n",
       "      <td>11.99</td>\n",
       "    </tr>\n",
       "    <tr>\n",
       "      <th>7154</th>\n",
       "      <td>148041</td>\n",
       "      <td>USB-C Charging Cable</td>\n",
       "      <td>1</td>\n",
       "      <td>11.95</td>\n",
       "      <td>2019-01-01 03:40:00</td>\n",
       "      <td>760 Church St, San Francisco, CA 94016</td>\n",
       "      <td>1</td>\n",
       "      <td>San Francisco</td>\n",
       "      <td>CA</td>\n",
       "      <td>11.95</td>\n",
       "    </tr>\n",
       "    <tr>\n",
       "      <th>8507</th>\n",
       "      <td>149343</td>\n",
       "      <td>Apple Airpods Headphones</td>\n",
       "      <td>1</td>\n",
       "      <td>150.00</td>\n",
       "      <td>2019-01-01 04:56:00</td>\n",
       "      <td>735 5th St, New York City, NY 10001</td>\n",
       "      <td>1</td>\n",
       "      <td>New York City</td>\n",
       "      <td>NY</td>\n",
       "      <td>150.00</td>\n",
       "    </tr>\n",
       "    <tr>\n",
       "      <th>9161</th>\n",
       "      <td>149964</td>\n",
       "      <td>AAA Batteries (4-pack)</td>\n",
       "      <td>1</td>\n",
       "      <td>2.99</td>\n",
       "      <td>2019-01-01 05:53:00</td>\n",
       "      <td>75 Jackson St, Dallas, TX 75001</td>\n",
       "      <td>1</td>\n",
       "      <td>Dallas</td>\n",
       "      <td>TX</td>\n",
       "      <td>2.99</td>\n",
       "    </tr>\n",
       "    <tr>\n",
       "      <th>8514</th>\n",
       "      <td>149350</td>\n",
       "      <td>USB-C Charging Cable</td>\n",
       "      <td>2</td>\n",
       "      <td>11.95</td>\n",
       "      <td>2019-01-01 06:03:00</td>\n",
       "      <td>943 2nd St, Atlanta, GA 30301</td>\n",
       "      <td>1</td>\n",
       "      <td>Atlanta</td>\n",
       "      <td>GA</td>\n",
       "      <td>23.90</td>\n",
       "    </tr>\n",
       "  </tbody>\n",
       "</table>\n",
       "</div>"
      ],
      "text/plain": [
       "     Order ID                   Product  Quantity Ordered  Price Each  \\\n",
       "6344   147268          Wired Headphones                 1       11.99   \n",
       "7154   148041      USB-C Charging Cable                 1       11.95   \n",
       "8507   149343  Apple Airpods Headphones                 1      150.00   \n",
       "9161   149964    AAA Batteries (4-pack)                 1        2.99   \n",
       "8514   149350      USB-C Charging Cable                 2       11.95   \n",
       "\n",
       "              Order Date                        Purchase Address  Month  \\\n",
       "6344 2019-01-01 03:07:00      9 Lake St, New York City, NY 10001      1   \n",
       "7154 2019-01-01 03:40:00  760 Church St, San Francisco, CA 94016      1   \n",
       "8507 2019-01-01 04:56:00     735 5th St, New York City, NY 10001      1   \n",
       "9161 2019-01-01 05:53:00         75 Jackson St, Dallas, TX 75001      1   \n",
       "8514 2019-01-01 06:03:00           943 2nd St, Atlanta, GA 30301      1   \n",
       "\n",
       "                City State  Sales Value  \n",
       "6344   New York City    NY        11.99  \n",
       "7154   San Francisco    CA        11.95  \n",
       "8507   New York City    NY       150.00  \n",
       "9161          Dallas    TX         2.99  \n",
       "8514         Atlanta    GA        23.90  "
      ]
     },
     "execution_count": 16,
     "metadata": {},
     "output_type": "execute_result"
    }
   ],
   "source": [
    "all_data.head()"
   ]
  },
  {
   "cell_type": "markdown",
   "id": "6c562c9b",
   "metadata": {
    "papermill": {
     "duration": 0.014229,
     "end_time": "2023-06-02T07:13:23.384976",
     "exception": false,
     "start_time": "2023-06-02T07:13:23.370747",
     "status": "completed"
    },
    "tags": []
   },
   "source": [
    "### Task #3: Data Exploration"
   ]
  },
  {
   "cell_type": "markdown",
   "id": "bef6684a",
   "metadata": {
    "papermill": {
     "duration": 0.014198,
     "end_time": "2023-06-02T07:13:23.413966",
     "exception": false,
     "start_time": "2023-06-02T07:13:23.399768",
     "status": "completed"
    },
    "tags": []
   },
   "source": [
    "#### Question 1: What was the best month for sales? How much was earned that month? "
   ]
  },
  {
   "cell_type": "code",
   "execution_count": 17,
   "id": "b6ae4312",
   "metadata": {
    "execution": {
     "iopub.execute_input": "2023-06-02T07:13:23.444522Z",
     "iopub.status.busy": "2023-06-02T07:13:23.444107Z",
     "iopub.status.idle": "2023-06-02T07:13:23.469408Z",
     "shell.execute_reply": "2023-06-02T07:13:23.468021Z"
    },
    "papermill": {
     "duration": 0.044019,
     "end_time": "2023-06-02T07:13:23.472436",
     "exception": false,
     "start_time": "2023-06-02T07:13:23.428417",
     "status": "completed"
    },
    "tags": []
   },
   "outputs": [
    {
     "data": {
      "text/html": [
       "<div>\n",
       "<style scoped>\n",
       "    .dataframe tbody tr th:only-of-type {\n",
       "        vertical-align: middle;\n",
       "    }\n",
       "\n",
       "    .dataframe tbody tr th {\n",
       "        vertical-align: top;\n",
       "    }\n",
       "\n",
       "    .dataframe thead th {\n",
       "        text-align: right;\n",
       "    }\n",
       "</style>\n",
       "<table border=\"1\" class=\"dataframe\">\n",
       "  <thead>\n",
       "    <tr style=\"text-align: right;\">\n",
       "      <th></th>\n",
       "      <th>Month</th>\n",
       "      <th>Quantity Ordered</th>\n",
       "      <th>Sales Value</th>\n",
       "    </tr>\n",
       "  </thead>\n",
       "  <tbody>\n",
       "    <tr>\n",
       "      <th>0</th>\n",
       "      <td>1</td>\n",
       "      <td>10670</td>\n",
       "      <td>1786511.29</td>\n",
       "    </tr>\n",
       "    <tr>\n",
       "      <th>1</th>\n",
       "      <td>2</td>\n",
       "      <td>13162</td>\n",
       "      <td>2158127.48</td>\n",
       "    </tr>\n",
       "    <tr>\n",
       "      <th>2</th>\n",
       "      <td>3</td>\n",
       "      <td>16697</td>\n",
       "      <td>2755969.40</td>\n",
       "    </tr>\n",
       "    <tr>\n",
       "      <th>3</th>\n",
       "      <td>4</td>\n",
       "      <td>20226</td>\n",
       "      <td>3336376.42</td>\n",
       "    </tr>\n",
       "    <tr>\n",
       "      <th>4</th>\n",
       "      <td>5</td>\n",
       "      <td>18344</td>\n",
       "      <td>3101881.04</td>\n",
       "    </tr>\n",
       "    <tr>\n",
       "      <th>5</th>\n",
       "      <td>6</td>\n",
       "      <td>14964</td>\n",
       "      <td>2524464.99</td>\n",
       "    </tr>\n",
       "    <tr>\n",
       "      <th>6</th>\n",
       "      <td>7</td>\n",
       "      <td>15781</td>\n",
       "      <td>2587444.91</td>\n",
       "    </tr>\n",
       "    <tr>\n",
       "      <th>7</th>\n",
       "      <td>8</td>\n",
       "      <td>13185</td>\n",
       "      <td>2191698.31</td>\n",
       "    </tr>\n",
       "    <tr>\n",
       "      <th>8</th>\n",
       "      <td>9</td>\n",
       "      <td>12827</td>\n",
       "      <td>2050361.26</td>\n",
       "    </tr>\n",
       "    <tr>\n",
       "      <th>9</th>\n",
       "      <td>10</td>\n",
       "      <td>22356</td>\n",
       "      <td>3679254.16</td>\n",
       "    </tr>\n",
       "    <tr>\n",
       "      <th>10</th>\n",
       "      <td>11</td>\n",
       "      <td>19479</td>\n",
       "      <td>3149785.09</td>\n",
       "    </tr>\n",
       "    <tr>\n",
       "      <th>11</th>\n",
       "      <td>12</td>\n",
       "      <td>27764</td>\n",
       "      <td>4557905.42</td>\n",
       "    </tr>\n",
       "  </tbody>\n",
       "</table>\n",
       "</div>"
      ],
      "text/plain": [
       "    Month  Quantity Ordered  Sales Value\n",
       "0       1             10670   1786511.29\n",
       "1       2             13162   2158127.48\n",
       "2       3             16697   2755969.40\n",
       "3       4             20226   3336376.42\n",
       "4       5             18344   3101881.04\n",
       "5       6             14964   2524464.99\n",
       "6       7             15781   2587444.91\n",
       "7       8             13185   2191698.31\n",
       "8       9             12827   2050361.26\n",
       "9      10             22356   3679254.16\n",
       "10     11             19479   3149785.09\n",
       "11     12             27764   4557905.42"
      ]
     },
     "execution_count": 17,
     "metadata": {},
     "output_type": "execute_result"
    }
   ],
   "source": [
    "monthly_sales = all_data.groupby(['Month']).agg({'Quantity Ordered':'sum','Sales Value':'sum'}).reset_index()\n",
    "monthly_sales"
   ]
  },
  {
   "cell_type": "code",
   "execution_count": 18,
   "id": "edae4759",
   "metadata": {
    "execution": {
     "iopub.execute_input": "2023-06-02T07:13:23.506664Z",
     "iopub.status.busy": "2023-06-02T07:13:23.505718Z",
     "iopub.status.idle": "2023-06-02T07:13:23.770744Z",
     "shell.execute_reply": "2023-06-02T07:13:23.769420Z"
    },
    "papermill": {
     "duration": 0.285119,
     "end_time": "2023-06-02T07:13:23.773426",
     "exception": false,
     "start_time": "2023-06-02T07:13:23.488307",
     "status": "completed"
    },
    "tags": []
   },
   "outputs": [
    {
     "data": {
      "image/png": "[encoded data removed]",
      "text/plain": [
       "<Figure size 640x480 with 1 Axes>"
      ]
     },
     "metadata": {},
     "output_type": "display_data"
    }
   ],
   "source": [
    "# Plotting Monthly Sales\n",
    "Months = range(1,13)\n",
    "plt.bar(Months, monthly_sales['Sales Value'])\n",
    "plt.xlabel('Month')\n",
    "plt.ylabel('Sales Value in USD')\n",
    "plt.show()"
   ]
  },
  {
   "cell_type": "markdown",
   "id": "72ca2e2b",
   "metadata": {
    "papermill": {
     "duration": 0.015448,
     "end_time": "2023-06-02T07:13:23.804358",
     "exception": false,
     "start_time": "2023-06-02T07:13:23.788910",
     "status": "completed"
    },
    "tags": []
   },
   "source": [
    "December was the Month with most sales with a sales volume of 4.5M U.S Dollars"
   ]
  },
  {
   "cell_type": "markdown",
   "id": "ca803e67",
   "metadata": {
    "papermill": {
     "duration": 0.015829,
     "end_time": "2023-06-02T07:13:23.836311",
     "exception": false,
     "start_time": "2023-06-02T07:13:23.820482",
     "status": "completed"
    },
    "tags": []
   },
   "source": [
    "#### Question 2: What City sold the most products?"
   ]
  },
  {
   "cell_type": "code",
   "execution_count": 19,
   "id": "426646c6",
   "metadata": {
    "execution": {
     "iopub.execute_input": "2023-06-02T07:13:23.869951Z",
     "iopub.status.busy": "2023-06-02T07:13:23.868772Z",
     "iopub.status.idle": "2023-06-02T07:13:23.906126Z",
     "shell.execute_reply": "2023-06-02T07:13:23.904866Z"
    },
    "papermill": {
     "duration": 0.056945,
     "end_time": "2023-06-02T07:13:23.908797",
     "exception": false,
     "start_time": "2023-06-02T07:13:23.851852",
     "status": "completed"
    },
    "tags": []
   },
   "outputs": [
    {
     "data": {
      "text/html": [
       "<div>\n",
       "<style scoped>\n",
       "    .dataframe tbody tr th:only-of-type {\n",
       "        vertical-align: middle;\n",
       "    }\n",
       "\n",
       "    .dataframe tbody tr th {\n",
       "        vertical-align: top;\n",
       "    }\n",
       "\n",
       "    .dataframe thead th {\n",
       "        text-align: right;\n",
       "    }\n",
       "</style>\n",
       "<table border=\"1\" class=\"dataframe\">\n",
       "  <thead>\n",
       "    <tr style=\"text-align: right;\">\n",
       "      <th></th>\n",
       "      <th>City</th>\n",
       "      <th>Quantity Ordered</th>\n",
       "    </tr>\n",
       "  </thead>\n",
       "  <tbody>\n",
       "    <tr>\n",
       "      <th>0</th>\n",
       "      <td>Atlanta</td>\n",
       "      <td>16304</td>\n",
       "    </tr>\n",
       "    <tr>\n",
       "      <th>1</th>\n",
       "      <td>Austin</td>\n",
       "      <td>10933</td>\n",
       "    </tr>\n",
       "    <tr>\n",
       "      <th>2</th>\n",
       "      <td>Boston</td>\n",
       "      <td>22123</td>\n",
       "    </tr>\n",
       "    <tr>\n",
       "      <th>3</th>\n",
       "      <td>Dallas</td>\n",
       "      <td>16453</td>\n",
       "    </tr>\n",
       "    <tr>\n",
       "      <th>4</th>\n",
       "      <td>Los Angeles</td>\n",
       "      <td>32722</td>\n",
       "    </tr>\n",
       "    <tr>\n",
       "      <th>5</th>\n",
       "      <td>New York City</td>\n",
       "      <td>27470</td>\n",
       "    </tr>\n",
       "    <tr>\n",
       "      <th>6</th>\n",
       "      <td>Portland</td>\n",
       "      <td>13806</td>\n",
       "    </tr>\n",
       "    <tr>\n",
       "      <th>7</th>\n",
       "      <td>San Francisco</td>\n",
       "      <td>49363</td>\n",
       "    </tr>\n",
       "    <tr>\n",
       "      <th>8</th>\n",
       "      <td>Seattle</td>\n",
       "      <td>16281</td>\n",
       "    </tr>\n",
       "  </tbody>\n",
       "</table>\n",
       "</div>"
      ],
      "text/plain": [
       "             City  Quantity Ordered\n",
       "0         Atlanta             16304\n",
       "1          Austin             10933\n",
       "2          Boston             22123\n",
       "3          Dallas             16453\n",
       "4     Los Angeles             32722\n",
       "5   New York City             27470\n",
       "6        Portland             13806\n",
       "7   San Francisco             49363\n",
       "8         Seattle             16281"
      ]
     },
     "execution_count": 19,
     "metadata": {},
     "output_type": "execute_result"
    }
   ],
   "source": [
    "city_sales = all_data.groupby('City').agg({'Quantity Ordered':'sum'}).reset_index()\n",
    "city_sales"
   ]
  },
  {
   "cell_type": "code",
   "execution_count": 20,
   "id": "64f41581",
   "metadata": {
    "execution": {
     "iopub.execute_input": "2023-06-02T07:13:23.941954Z",
     "iopub.status.busy": "2023-06-02T07:13:23.941581Z",
     "iopub.status.idle": "2023-06-02T07:13:24.247304Z",
     "shell.execute_reply": "2023-06-02T07:13:24.246007Z"
    },
    "papermill": {
     "duration": 0.325611,
     "end_time": "2023-06-02T07:13:24.250127",
     "exception": false,
     "start_time": "2023-06-02T07:13:23.924516",
     "status": "completed"
    },
    "tags": []
   },
   "outputs": [
    {
     "data": {
      "image/png": "[encoded data removed]",
      "text/plain": [
       "<Figure size 640x480 with 1 Axes>"
      ]
     },
     "metadata": {},
     "output_type": "display_data"
    }
   ],
   "source": [
    "# Plotting Sales by City\n",
    "sns.barplot(data=city_sales, x=city_sales['City'], y=city_sales['Quantity Ordered'])\n",
    "plt.xticks(rotation=45)\n",
    "plt.title('Sales per City')\n",
    "plt.xlabel('City')\n",
    "plt.ylabel('Quanty Sold')\n",
    "plt.show()"
   ]
  },
  {
   "cell_type": "markdown",
   "id": "078da332",
   "metadata": {
    "papermill": {
     "duration": 0.01561,
     "end_time": "2023-06-02T07:13:24.281780",
     "exception": false,
     "start_time": "2023-06-02T07:13:24.266170",
     "status": "completed"
    },
    "tags": []
   },
   "source": [
    "Most products were sold in San Francisco with 45K products sold."
   ]
  },
  {
   "cell_type": "markdown",
   "id": "856f563a",
   "metadata": {
    "papermill": {
     "duration": 0.015694,
     "end_time": "2023-06-02T07:13:24.313227",
     "exception": false,
     "start_time": "2023-06-02T07:13:24.297533",
     "status": "completed"
    },
    "tags": []
   },
   "source": [
    "#### Question 3: What time should we display advertisements to maximize likelihood of customer's buying product?"
   ]
  },
  {
   "cell_type": "code",
   "execution_count": 21,
   "id": "1462b381",
   "metadata": {
    "execution": {
     "iopub.execute_input": "2023-06-02T07:13:24.347632Z",
     "iopub.status.busy": "2023-06-02T07:13:24.347106Z",
     "iopub.status.idle": "2023-06-02T07:13:24.386289Z",
     "shell.execute_reply": "2023-06-02T07:13:24.384964Z"
    },
    "papermill": {
     "duration": 0.059493,
     "end_time": "2023-06-02T07:13:24.388745",
     "exception": false,
     "start_time": "2023-06-02T07:13:24.329252",
     "status": "completed"
    },
    "tags": []
   },
   "outputs": [
    {
     "data": {
      "text/html": [
       "<div>\n",
       "<style scoped>\n",
       "    .dataframe tbody tr th:only-of-type {\n",
       "        vertical-align: middle;\n",
       "    }\n",
       "\n",
       "    .dataframe tbody tr th {\n",
       "        vertical-align: top;\n",
       "    }\n",
       "\n",
       "    .dataframe thead th {\n",
       "        text-align: right;\n",
       "    }\n",
       "</style>\n",
       "<table border=\"1\" class=\"dataframe\">\n",
       "  <thead>\n",
       "    <tr style=\"text-align: right;\">\n",
       "      <th></th>\n",
       "      <th>Order ID</th>\n",
       "      <th>Product</th>\n",
       "      <th>Quantity Ordered</th>\n",
       "      <th>Price Each</th>\n",
       "      <th>Order Date</th>\n",
       "      <th>Purchase Address</th>\n",
       "      <th>Month</th>\n",
       "      <th>City</th>\n",
       "      <th>State</th>\n",
       "      <th>Sales Value</th>\n",
       "      <th>Hour</th>\n",
       "    </tr>\n",
       "  </thead>\n",
       "  <tbody>\n",
       "    <tr>\n",
       "      <th>6344</th>\n",
       "      <td>147268</td>\n",
       "      <td>Wired Headphones</td>\n",
       "      <td>1</td>\n",
       "      <td>11.99</td>\n",
       "      <td>2019-01-01 03:07:00</td>\n",
       "      <td>9 Lake St, New York City, NY 10001</td>\n",
       "      <td>1</td>\n",
       "      <td>New York City</td>\n",
       "      <td>NY</td>\n",
       "      <td>11.99</td>\n",
       "      <td>3</td>\n",
       "    </tr>\n",
       "    <tr>\n",
       "      <th>7154</th>\n",
       "      <td>148041</td>\n",
       "      <td>USB-C Charging Cable</td>\n",
       "      <td>1</td>\n",
       "      <td>11.95</td>\n",
       "      <td>2019-01-01 03:40:00</td>\n",
       "      <td>760 Church St, San Francisco, CA 94016</td>\n",
       "      <td>1</td>\n",
       "      <td>San Francisco</td>\n",
       "      <td>CA</td>\n",
       "      <td>11.95</td>\n",
       "      <td>3</td>\n",
       "    </tr>\n",
       "    <tr>\n",
       "      <th>8507</th>\n",
       "      <td>149343</td>\n",
       "      <td>Apple Airpods Headphones</td>\n",
       "      <td>1</td>\n",
       "      <td>150.00</td>\n",
       "      <td>2019-01-01 04:56:00</td>\n",
       "      <td>735 5th St, New York City, NY 10001</td>\n",
       "      <td>1</td>\n",
       "      <td>New York City</td>\n",
       "      <td>NY</td>\n",
       "      <td>150.00</td>\n",
       "      <td>4</td>\n",
       "    </tr>\n",
       "    <tr>\n",
       "      <th>9161</th>\n",
       "      <td>149964</td>\n",
       "      <td>AAA Batteries (4-pack)</td>\n",
       "      <td>1</td>\n",
       "      <td>2.99</td>\n",
       "      <td>2019-01-01 05:53:00</td>\n",
       "      <td>75 Jackson St, Dallas, TX 75001</td>\n",
       "      <td>1</td>\n",
       "      <td>Dallas</td>\n",
       "      <td>TX</td>\n",
       "      <td>2.99</td>\n",
       "      <td>5</td>\n",
       "    </tr>\n",
       "    <tr>\n",
       "      <th>8514</th>\n",
       "      <td>149350</td>\n",
       "      <td>USB-C Charging Cable</td>\n",
       "      <td>2</td>\n",
       "      <td>11.95</td>\n",
       "      <td>2019-01-01 06:03:00</td>\n",
       "      <td>943 2nd St, Atlanta, GA 30301</td>\n",
       "      <td>1</td>\n",
       "      <td>Atlanta</td>\n",
       "      <td>GA</td>\n",
       "      <td>23.90</td>\n",
       "      <td>6</td>\n",
       "    </tr>\n",
       "  </tbody>\n",
       "</table>\n",
       "</div>"
      ],
      "text/plain": [
       "     Order ID                   Product  Quantity Ordered  Price Each  \\\n",
       "6344   147268          Wired Headphones                 1       11.99   \n",
       "7154   148041      USB-C Charging Cable                 1       11.95   \n",
       "8507   149343  Apple Airpods Headphones                 1      150.00   \n",
       "9161   149964    AAA Batteries (4-pack)                 1        2.99   \n",
       "8514   149350      USB-C Charging Cable                 2       11.95   \n",
       "\n",
       "              Order Date                        Purchase Address  Month  \\\n",
       "6344 2019-01-01 03:07:00      9 Lake St, New York City, NY 10001      1   \n",
       "7154 2019-01-01 03:40:00  760 Church St, San Francisco, CA 94016      1   \n",
       "8507 2019-01-01 04:56:00     735 5th St, New York City, NY 10001      1   \n",
       "9161 2019-01-01 05:53:00         75 Jackson St, Dallas, TX 75001      1   \n",
       "8514 2019-01-01 06:03:00           943 2nd St, Atlanta, GA 30301      1   \n",
       "\n",
       "                City State  Sales Value  Hour  \n",
       "6344   New York City    NY        11.99     3  \n",
       "7154   San Francisco    CA        11.95     3  \n",
       "8507   New York City    NY       150.00     4  \n",
       "9161          Dallas    TX         2.99     5  \n",
       "8514         Atlanta    GA        23.90     6  "
      ]
     },
     "execution_count": 21,
     "metadata": {},
     "output_type": "execute_result"
    }
   ],
   "source": [
    "all_data['Hour'] = all_data['Order Date'].dt.hour\n",
    "all_data.head()"
   ]
  },
  {
   "cell_type": "code",
   "execution_count": 22,
   "id": "54b93cb9",
   "metadata": {
    "execution": {
     "iopub.execute_input": "2023-06-02T07:13:24.422968Z",
     "iopub.status.busy": "2023-06-02T07:13:24.422533Z",
     "iopub.status.idle": "2023-06-02T07:13:24.747965Z",
     "shell.execute_reply": "2023-06-02T07:13:24.746921Z"
    },
    "papermill": {
     "duration": 0.345548,
     "end_time": "2023-06-02T07:13:24.750395",
     "exception": false,
     "start_time": "2023-06-02T07:13:24.404847",
     "status": "completed"
    },
    "tags": []
   },
   "outputs": [
    {
     "data": {
      "image/png": "[encoded data removed]",
      "text/plain": [
       "<Figure size 640x480 with 1 Axes>"
      ]
     },
     "metadata": {},
     "output_type": "display_data"
    }
   ],
   "source": [
    "hourly_sales = all_data.groupby('Hour').agg({'Quantity Ordered':'sum'}).reset_index()\n",
    "\n",
    "sns.lineplot(x=hourly_sales['Hour'],y=hourly_sales['Quantity Ordered'], data=hourly_sales)\n",
    "plt.title('Hourly Sales')\n",
    "plt.grid()"
   ]
  },
  {
   "cell_type": "markdown",
   "id": "ef7d7cd1",
   "metadata": {
    "papermill": {
     "duration": 0.016802,
     "end_time": "2023-06-02T07:13:24.784050",
     "exception": false,
     "start_time": "2023-06-02T07:13:24.767248",
     "status": "completed"
    },
    "tags": []
   },
   "source": [
    "From the chart, the best time to do advertisements will be from 11am to 12 noon and 6pm to 8pm."
   ]
  },
  {
   "cell_type": "markdown",
   "id": "96c0e983",
   "metadata": {
    "papermill": {
     "duration": 0.016154,
     "end_time": "2023-06-02T07:13:24.816802",
     "exception": false,
     "start_time": "2023-06-02T07:13:24.800648",
     "status": "completed"
    },
    "tags": []
   },
   "source": [
    "#### Question 4: Which products are sold together"
   ]
  },
  {
   "cell_type": "code",
   "execution_count": 23,
   "id": "fcf38acb",
   "metadata": {
    "execution": {
     "iopub.execute_input": "2023-06-02T07:13:24.852084Z",
     "iopub.status.busy": "2023-06-02T07:13:24.851574Z",
     "iopub.status.idle": "2023-06-02T07:13:26.025260Z",
     "shell.execute_reply": "2023-06-02T07:13:26.023775Z"
    },
    "papermill": {
     "duration": 1.194602,
     "end_time": "2023-06-02T07:13:26.027864",
     "exception": false,
     "start_time": "2023-06-02T07:13:24.833262",
     "status": "completed"
    },
    "tags": []
   },
   "outputs": [
    {
     "data": {
      "text/html": [
       "<div>\n",
       "<style scoped>\n",
       "    .dataframe tbody tr th:only-of-type {\n",
       "        vertical-align: middle;\n",
       "    }\n",
       "\n",
       "    .dataframe tbody tr th {\n",
       "        vertical-align: top;\n",
       "    }\n",
       "\n",
       "    .dataframe thead th {\n",
       "        text-align: right;\n",
       "    }\n",
       "</style>\n",
       "<table border=\"1\" class=\"dataframe\">\n",
       "  <thead>\n",
       "    <tr style=\"text-align: right;\">\n",
       "      <th></th>\n",
       "      <th>Order ID</th>\n",
       "      <th>Product</th>\n",
       "      <th>Quantity Ordered</th>\n",
       "      <th>Price Each</th>\n",
       "      <th>Order Date</th>\n",
       "      <th>Purchase Address</th>\n",
       "      <th>Month</th>\n",
       "      <th>City</th>\n",
       "      <th>State</th>\n",
       "      <th>Sales Value</th>\n",
       "      <th>Hour</th>\n",
       "      <th>Grouped</th>\n",
       "    </tr>\n",
       "  </thead>\n",
       "  <tbody>\n",
       "    <tr>\n",
       "      <th>3763</th>\n",
       "      <td>144804</td>\n",
       "      <td>iPhone</td>\n",
       "      <td>1</td>\n",
       "      <td>700.00</td>\n",
       "      <td>2019-01-01 07:29:00</td>\n",
       "      <td>628 Lake St, New York City, NY 10001</td>\n",
       "      <td>1</td>\n",
       "      <td>New York City</td>\n",
       "      <td>NY</td>\n",
       "      <td>700.00</td>\n",
       "      <td>7</td>\n",
       "      <td>iPhone,Wired Headphones</td>\n",
       "    </tr>\n",
       "    <tr>\n",
       "      <th>3764</th>\n",
       "      <td>144804</td>\n",
       "      <td>Wired Headphones</td>\n",
       "      <td>1</td>\n",
       "      <td>11.99</td>\n",
       "      <td>2019-01-01 07:29:00</td>\n",
       "      <td>628 Lake St, New York City, NY 10001</td>\n",
       "      <td>1</td>\n",
       "      <td>New York City</td>\n",
       "      <td>NY</td>\n",
       "      <td>11.99</td>\n",
       "      <td>7</td>\n",
       "      <td>iPhone,Wired Headphones</td>\n",
       "    </tr>\n",
       "    <tr>\n",
       "      <th>7189</th>\n",
       "      <td>148074</td>\n",
       "      <td>Google Phone</td>\n",
       "      <td>1</td>\n",
       "      <td>600.00</td>\n",
       "      <td>2019-01-01 11:25:00</td>\n",
       "      <td>6 Johnson St, Atlanta, GA 30301</td>\n",
       "      <td>1</td>\n",
       "      <td>Atlanta</td>\n",
       "      <td>GA</td>\n",
       "      <td>600.00</td>\n",
       "      <td>11</td>\n",
       "      <td>Google Phone,USB-C Charging Cable</td>\n",
       "    </tr>\n",
       "    <tr>\n",
       "      <th>7190</th>\n",
       "      <td>148074</td>\n",
       "      <td>USB-C Charging Cable</td>\n",
       "      <td>1</td>\n",
       "      <td>11.95</td>\n",
       "      <td>2019-01-01 11:25:00</td>\n",
       "      <td>6 Johnson St, Atlanta, GA 30301</td>\n",
       "      <td>1</td>\n",
       "      <td>Atlanta</td>\n",
       "      <td>GA</td>\n",
       "      <td>11.95</td>\n",
       "      <td>11</td>\n",
       "      <td>Google Phone,USB-C Charging Cable</td>\n",
       "    </tr>\n",
       "    <tr>\n",
       "      <th>7576</th>\n",
       "      <td>148450</td>\n",
       "      <td>iPhone</td>\n",
       "      <td>1</td>\n",
       "      <td>700.00</td>\n",
       "      <td>2019-01-01 12:02:00</td>\n",
       "      <td>761 Lakeview St, Dallas, TX 75001</td>\n",
       "      <td>1</td>\n",
       "      <td>Dallas</td>\n",
       "      <td>TX</td>\n",
       "      <td>700.00</td>\n",
       "      <td>12</td>\n",
       "      <td>iPhone,Lightning Charging Cable</td>\n",
       "    </tr>\n",
       "    <tr>\n",
       "      <th>...</th>\n",
       "      <td>...</td>\n",
       "      <td>...</td>\n",
       "      <td>...</td>\n",
       "      <td>...</td>\n",
       "      <td>...</td>\n",
       "      <td>...</td>\n",
       "      <td>...</td>\n",
       "      <td>...</td>\n",
       "      <td>...</td>\n",
       "      <td>...</td>\n",
       "      <td>...</td>\n",
       "      <td>...</td>\n",
       "    </tr>\n",
       "    <tr>\n",
       "      <th>6628</th>\n",
       "      <td>147535</td>\n",
       "      <td>Google Phone</td>\n",
       "      <td>1</td>\n",
       "      <td>600.00</td>\n",
       "      <td>2019-01-05 04:11:00</td>\n",
       "      <td>100 Highland St, Boston, MA 02215</td>\n",
       "      <td>1</td>\n",
       "      <td>Boston</td>\n",
       "      <td>MA</td>\n",
       "      <td>600.00</td>\n",
       "      <td>4</td>\n",
       "      <td>Wired Headphones,Google Phone</td>\n",
       "    </tr>\n",
       "    <tr>\n",
       "      <th>2464</th>\n",
       "      <td>143572</td>\n",
       "      <td>AAA Batteries (4-pack)</td>\n",
       "      <td>4</td>\n",
       "      <td>2.99</td>\n",
       "      <td>2019-01-05 08:52:00</td>\n",
       "      <td>151 10th St, Austin, TX 73301</td>\n",
       "      <td>1</td>\n",
       "      <td>Austin</td>\n",
       "      <td>TX</td>\n",
       "      <td>11.96</td>\n",
       "      <td>8</td>\n",
       "      <td>AAA Batteries (4-pack),USB-C Charging Cable</td>\n",
       "    </tr>\n",
       "    <tr>\n",
       "      <th>2465</th>\n",
       "      <td>143572</td>\n",
       "      <td>USB-C Charging Cable</td>\n",
       "      <td>1</td>\n",
       "      <td>11.95</td>\n",
       "      <td>2019-01-05 08:52:00</td>\n",
       "      <td>151 10th St, Austin, TX 73301</td>\n",
       "      <td>1</td>\n",
       "      <td>Austin</td>\n",
       "      <td>TX</td>\n",
       "      <td>11.95</td>\n",
       "      <td>8</td>\n",
       "      <td>AAA Batteries (4-pack),USB-C Charging Cable</td>\n",
       "    </tr>\n",
       "    <tr>\n",
       "      <th>2085</th>\n",
       "      <td>143211</td>\n",
       "      <td>Apple Airpods Headphones</td>\n",
       "      <td>1</td>\n",
       "      <td>150.00</td>\n",
       "      <td>2019-01-05 11:08:00</td>\n",
       "      <td>608 Church St, Atlanta, GA 30301</td>\n",
       "      <td>1</td>\n",
       "      <td>Atlanta</td>\n",
       "      <td>GA</td>\n",
       "      <td>150.00</td>\n",
       "      <td>11</td>\n",
       "      <td>Apple Airpods Headphones,AAA Batteries (4-pack)</td>\n",
       "    </tr>\n",
       "    <tr>\n",
       "      <th>2084</th>\n",
       "      <td>143211</td>\n",
       "      <td>AAA Batteries (4-pack)</td>\n",
       "      <td>1</td>\n",
       "      <td>2.99</td>\n",
       "      <td>2019-01-05 11:08:00</td>\n",
       "      <td>608 Church St, Atlanta, GA 30301</td>\n",
       "      <td>1</td>\n",
       "      <td>Atlanta</td>\n",
       "      <td>GA</td>\n",
       "      <td>2.99</td>\n",
       "      <td>11</td>\n",
       "      <td>Apple Airpods Headphones,AAA Batteries (4-pack)</td>\n",
       "    </tr>\n",
       "  </tbody>\n",
       "</table>\n",
       "<p>100 rows × 12 columns</p>\n",
       "</div>"
      ],
      "text/plain": [
       "     Order ID                   Product  Quantity Ordered  Price Each  \\\n",
       "3763   144804                    iPhone                 1      700.00   \n",
       "3764   144804          Wired Headphones                 1       11.99   \n",
       "7189   148074              Google Phone                 1      600.00   \n",
       "7190   148074      USB-C Charging Cable                 1       11.95   \n",
       "7576   148450                    iPhone                 1      700.00   \n",
       "...       ...                       ...               ...         ...   \n",
       "6628   147535              Google Phone                 1      600.00   \n",
       "2464   143572    AAA Batteries (4-pack)                 4        2.99   \n",
       "2465   143572      USB-C Charging Cable                 1       11.95   \n",
       "2085   143211  Apple Airpods Headphones                 1      150.00   \n",
       "2084   143211    AAA Batteries (4-pack)                 1        2.99   \n",
       "\n",
       "              Order Date                      Purchase Address  Month  \\\n",
       "3763 2019-01-01 07:29:00  628 Lake St, New York City, NY 10001      1   \n",
       "3764 2019-01-01 07:29:00  628 Lake St, New York City, NY 10001      1   \n",
       "7189 2019-01-01 11:25:00       6 Johnson St, Atlanta, GA 30301      1   \n",
       "7190 2019-01-01 11:25:00       6 Johnson St, Atlanta, GA 30301      1   \n",
       "7576 2019-01-01 12:02:00     761 Lakeview St, Dallas, TX 75001      1   \n",
       "...                  ...                                   ...    ...   \n",
       "6628 2019-01-05 04:11:00     100 Highland St, Boston, MA 02215      1   \n",
       "2464 2019-01-05 08:52:00         151 10th St, Austin, TX 73301      1   \n",
       "2465 2019-01-05 08:52:00         151 10th St, Austin, TX 73301      1   \n",
       "2085 2019-01-05 11:08:00      608 Church St, Atlanta, GA 30301      1   \n",
       "2084 2019-01-05 11:08:00      608 Church St, Atlanta, GA 30301      1   \n",
       "\n",
       "                City State  Sales Value  Hour  \\\n",
       "3763   New York City    NY       700.00     7   \n",
       "3764   New York City    NY        11.99     7   \n",
       "7189         Atlanta    GA       600.00    11   \n",
       "7190         Atlanta    GA        11.95    11   \n",
       "7576          Dallas    TX       700.00    12   \n",
       "...              ...   ...          ...   ...   \n",
       "6628          Boston    MA       600.00     4   \n",
       "2464          Austin    TX        11.96     8   \n",
       "2465          Austin    TX        11.95     8   \n",
       "2085         Atlanta    GA       150.00    11   \n",
       "2084         Atlanta    GA         2.99    11   \n",
       "\n",
       "                                              Grouped  \n",
       "3763                          iPhone,Wired Headphones  \n",
       "3764                          iPhone,Wired Headphones  \n",
       "7189                Google Phone,USB-C Charging Cable  \n",
       "7190                Google Phone,USB-C Charging Cable  \n",
       "7576                  iPhone,Lightning Charging Cable  \n",
       "...                                               ...  \n",
       "6628                    Wired Headphones,Google Phone  \n",
       "2464      AAA Batteries (4-pack),USB-C Charging Cable  \n",
       "2465      AAA Batteries (4-pack),USB-C Charging Cable  \n",
       "2085  Apple Airpods Headphones,AAA Batteries (4-pack)  \n",
       "2084  Apple Airpods Headphones,AAA Batteries (4-pack)  \n",
       "\n",
       "[100 rows x 12 columns]"
      ]
     },
     "execution_count": 23,
     "metadata": {},
     "output_type": "execute_result"
    }
   ],
   "source": [
    "# Filter the DataFrame into one with duplicate 'Order ID' columns.\n",
    "duplicated = all_data[all_data['Order ID'].duplicated(keep=False)]\n",
    "\n",
    "# Combine the Products in a duplicate column.\n",
    "duplicated['Grouped'] = duplicated.groupby('Order ID')['Product'].transform(lambda x: ','.join(x))\n",
    "duplicated.head(100)"
   ]
  },
  {
   "cell_type": "code",
   "execution_count": 24,
   "id": "575fde89",
   "metadata": {
    "execution": {
     "iopub.execute_input": "2023-06-02T07:13:26.065415Z",
     "iopub.status.busy": "2023-06-02T07:13:26.064946Z",
     "iopub.status.idle": "2023-06-02T07:13:26.091759Z",
     "shell.execute_reply": "2023-06-02T07:13:26.090589Z"
    },
    "papermill": {
     "duration": 0.048848,
     "end_time": "2023-06-02T07:13:26.094232",
     "exception": false,
     "start_time": "2023-06-02T07:13:26.045384",
     "status": "completed"
    },
    "tags": []
   },
   "outputs": [
    {
     "data": {
      "text/html": [
       "<div>\n",
       "<style scoped>\n",
       "    .dataframe tbody tr th:only-of-type {\n",
       "        vertical-align: middle;\n",
       "    }\n",
       "\n",
       "    .dataframe tbody tr th {\n",
       "        vertical-align: top;\n",
       "    }\n",
       "\n",
       "    .dataframe thead th {\n",
       "        text-align: right;\n",
       "    }\n",
       "</style>\n",
       "<table border=\"1\" class=\"dataframe\">\n",
       "  <thead>\n",
       "    <tr style=\"text-align: right;\">\n",
       "      <th></th>\n",
       "      <th>Order ID</th>\n",
       "      <th>Grouped</th>\n",
       "    </tr>\n",
       "  </thead>\n",
       "  <tbody>\n",
       "    <tr>\n",
       "      <th>3763</th>\n",
       "      <td>144804</td>\n",
       "      <td>iPhone,Wired Headphones</td>\n",
       "    </tr>\n",
       "    <tr>\n",
       "      <th>7189</th>\n",
       "      <td>148074</td>\n",
       "      <td>Google Phone,USB-C Charging Cable</td>\n",
       "    </tr>\n",
       "    <tr>\n",
       "      <th>7576</th>\n",
       "      <td>148450</td>\n",
       "      <td>iPhone,Lightning Charging Cable</td>\n",
       "    </tr>\n",
       "    <tr>\n",
       "      <th>3629</th>\n",
       "      <td>144679</td>\n",
       "      <td>Google Phone,USB-C Charging Cable</td>\n",
       "    </tr>\n",
       "    <tr>\n",
       "      <th>6537</th>\n",
       "      <td>147451</td>\n",
       "      <td>Google Phone,Wired Headphones</td>\n",
       "    </tr>\n",
       "  </tbody>\n",
       "</table>\n",
       "</div>"
      ],
      "text/plain": [
       "     Order ID                            Grouped\n",
       "3763   144804            iPhone,Wired Headphones\n",
       "7189   148074  Google Phone,USB-C Charging Cable\n",
       "7576   148450    iPhone,Lightning Charging Cable\n",
       "3629   144679  Google Phone,USB-C Charging Cable\n",
       "6537   147451      Google Phone,Wired Headphones"
      ]
     },
     "execution_count": 24,
     "metadata": {},
     "output_type": "execute_result"
    }
   ],
   "source": [
    "# Drop duplicated rows.\n",
    "duplicated = duplicated[['Order ID','Grouped']].drop_duplicates()\n",
    "\n",
    "duplicated.head()\n",
    "\n",
    "#NB: duplicated[duplicated['Grouped'].str.contains(',')] Helps check if a column contains a certain character(,)."
   ]
  },
  {
   "cell_type": "code",
   "execution_count": 25,
   "id": "2a701b9b",
   "metadata": {
    "execution": {
     "iopub.execute_input": "2023-06-02T07:13:26.131424Z",
     "iopub.status.busy": "2023-06-02T07:13:26.131019Z",
     "iopub.status.idle": "2023-06-02T07:13:26.183455Z",
     "shell.execute_reply": "2023-06-02T07:13:26.181451Z"
    },
    "papermill": {
     "duration": 0.073804,
     "end_time": "2023-06-02T07:13:26.185858",
     "exception": false,
     "start_time": "2023-06-02T07:13:26.112054",
     "status": "completed"
    },
    "tags": []
   },
   "outputs": [
    {
     "name": "stdout",
     "output_type": "stream",
     "text": [
      "('iPhone', 'Lightning Charging Cable') 513\n",
      "('USB-C Charging Cable', 'Google Phone') 510\n",
      "('Lightning Charging Cable', 'iPhone') 470\n",
      "('Google Phone', 'USB-C Charging Cable') 456\n",
      "('Wired Headphones', 'iPhone') 229\n",
      "('iPhone', 'Wired Headphones') 223\n",
      "('Google Phone', 'Wired Headphones') 218\n",
      "('Wired Headphones', 'Google Phone') 192\n",
      "('iPhone', 'Apple Airpods Headphones') 187\n",
      "('Vareebadd Phone', 'USB-C Charging Cable') 186\n"
     ]
    }
   ],
   "source": [
    "from itertools import combinations\n",
    "from collections import Counter\n",
    "\n",
    "count = Counter()\n",
    "\n",
    "for row in duplicated['Grouped']:\n",
    "    row_list = row.split(',')\n",
    "    count.update(Counter(combinations(row_list, 2)))\n",
    "    \n",
    "for key, value in count.most_common(10):\n",
    "    print(key, value)"
   ]
  },
  {
   "cell_type": "markdown",
   "id": "fbf52c58",
   "metadata": {
    "papermill": {
     "duration": 0.017059,
     "end_time": "2023-06-02T07:13:26.220409",
     "exception": false,
     "start_time": "2023-06-02T07:13:26.203350",
     "status": "completed"
    },
    "tags": []
   },
   "source": [
    "Most products sold together are iPhone and Lightning Charging Cable, Google Phone and USB-C Charging Cable.  \n",
    "The Company can take adavantage of this and display the products together. As well, once a buyer gets one product,  \n",
    "the merchandizer can recommend the other product to the customer."
   ]
  },
  {
   "cell_type": "markdown",
   "id": "1734319f",
   "metadata": {
    "papermill": {
     "duration": 0.017016,
     "end_time": "2023-06-02T07:13:26.254853",
     "exception": false,
     "start_time": "2023-06-02T07:13:26.237837",
     "status": "completed"
    },
    "tags": []
   },
   "source": [
    "#### Question 5: What products sold the most?"
   ]
  },
  {
   "cell_type": "code",
   "execution_count": 26,
   "id": "1b8319a4",
   "metadata": {
    "execution": {
     "iopub.execute_input": "2023-06-02T07:13:26.291966Z",
     "iopub.status.busy": "2023-06-02T07:13:26.291479Z",
     "iopub.status.idle": "2023-06-02T07:13:26.820960Z",
     "shell.execute_reply": "2023-06-02T07:13:26.819859Z"
    },
    "papermill": {
     "duration": 0.551609,
     "end_time": "2023-06-02T07:13:26.823790",
     "exception": false,
     "start_time": "2023-06-02T07:13:26.272181",
     "status": "completed"
    },
    "tags": []
   },
   "outputs": [
    {
     "data": {
      "image/png": "[encoded data removed]",
      "text/plain": [
       "<Figure size 640x480 with 1 Axes>"
      ]
     },
     "metadata": {},
     "output_type": "display_data"
    }
   ],
   "source": [
    "grouped_products = all_data.groupby('Product')\n",
    "products_sold = all_data.groupby('Product').sum()['Quantity Ordered']\n",
    "products = [product for product, df in grouped_products]\n",
    "plt.bar(products, products_sold)\n",
    "plt.title('Quantity of Products Sold')\n",
    "plt.xlabel('Product Sold')\n",
    "plt.ylabel('Quantity Sold')\n",
    "plt.xticks(rotation=90)\n",
    "plt.grid()\n",
    "plt.show()"
   ]
  },
  {
   "cell_type": "markdown",
   "id": "710ce295",
   "metadata": {
    "papermill": {
     "duration": 0.018305,
     "end_time": "2023-06-02T07:13:26.861046",
     "exception": false,
     "start_time": "2023-06-02T07:13:26.842741",
     "status": "completed"
    },
    "tags": []
   },
   "source": [
    "  From the chart, AAA Batteries (4-pack) sold the most while LG Dryer and LG Washing Machine sold the least.\n",
    "  \n",
    "  We can base the high quantity sold as result of AAA Batteries having the least price, and we can showcase the \n",
    "  hypothesis using the below chart."
   ]
  },
  {
   "cell_type": "code",
   "execution_count": 27,
   "id": "aec40a9e",
   "metadata": {
    "execution": {
     "iopub.execute_input": "2023-06-02T07:13:26.900006Z",
     "iopub.status.busy": "2023-06-02T07:13:26.899600Z",
     "iopub.status.idle": "2023-06-02T07:13:27.379124Z",
     "shell.execute_reply": "2023-06-02T07:13:27.378201Z"
    },
    "papermill": {
     "duration": 0.501862,
     "end_time": "2023-06-02T07:13:27.381503",
     "exception": false,
     "start_time": "2023-06-02T07:13:26.879641",
     "status": "completed"
    },
    "tags": []
   },
   "outputs": [
    {
     "data": {
      "image/png": "[encoded data removed]",
      "text/plain": [
       "<Figure size 640x480 with 2 Axes>"
      ]
     },
     "metadata": {},
     "output_type": "display_data"
    }
   ],
   "source": [
    "prices = all_data.groupby('Product').mean()['Price Each']\n",
    "\n",
    "fig, ax1 = plt.subplots()\n",
    "\n",
    "ax2 = ax1.twinx()\n",
    "ax1.bar(products, products_sold, color='g')\n",
    "ax2.plot(products, prices, 'b-')\n",
    "\n",
    "ax1.set_xlabel('Product Sold')\n",
    "ax1.set_ylabel('Quantity Sold', color='g')\n",
    "ax2.set_ylabel('Price ($)', color='b')\n",
    "ax1.set_xticklabels(products, rotation='vertical', size=8)\n",
    "\n",
    "plt.show()"
   ]
  }
 ],
 "metadata": {
  "kernelspec": {
   "display_name": "Python 3",
   "language": "python",
   "name": "python3"
  },
  "language_info": {
   "codemirror_mode": {
    "name": "ipython",
    "version": 3
   },
   "file_extension": ".py",
   "mimetype": "text/x-python",
   "name": "python",
   "nbconvert_exporter": "python",
   "pygments_lexer": "ipython3",
   "version": "3.10.10"
  },
  "papermill": {
   "default_parameters": {},
   "duration": 46.347674,
   "end_time": "2023-06-02T07:13:28.828907",
   "environment_variables": {},
   "exception": null,
   "input_path": "__notebook__.ipynb",
   "output_path": "__notebook__.ipynb",
   "parameters": {},
   "start_time": "2023-06-02T07:12:42.481233",
   "version": "2.4.0"
  }
 },
 "nbformat": 4,
 "nbformat_minor": 5
}
